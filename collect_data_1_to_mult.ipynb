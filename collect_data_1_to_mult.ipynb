{
 "cells": [
  {
   "cell_type": "code",
   "execution_count": 11,
   "id": "c9269370",
   "metadata": {},
   "outputs": [],
   "source": [
    "import os\n",
    "import re\n",
    "import pdb\n",
    "import matplotlib.pyplot as plt\n",
    "\n",
    "plt.rcParams['figure.dpi'] = 800\n",
    "plt.rcParams['savefig.dpi'] = 800"
   ]
  },
  {
   "cell_type": "code",
   "execution_count": 2,
   "id": "1ea085e8",
   "metadata": {},
   "outputs": [],
   "source": [
    "def collect_data(err_rate):\n",
    "    runtimes = []\n",
    "    mem_usages = []\n",
    "    num_plans = []\n",
    "    for domain_name in os.listdir(os.getcwd()):\n",
    "        domain_dir = os.path.join(os.getcwd(), domain_name)\n",
    "        if not os.path.isdir(domain_dir):\n",
    "            continue\n",
    "        if not os.path.exists(os.path.join(domain_dir, \"err-rate-{}\".format(err_rate), \"diagnosis\")):\n",
    "            continue\n",
    "        num_plan = 0\n",
    "        for t in os.listdir(domain_dir):\n",
    "            task_dir = os.path.join(domain_dir, t)\n",
    "            if \"sas_plan\" not in os.listdir(task_dir):\n",
    "                continue\n",
    "            num_plan += 1\n",
    "        if num_plan == 0:\n",
    "            print(domain_name)\n",
    "        num_plans.append(num_plan)\n",
    "        with open(os.path.join(domain_dir, \"err-rate-{}\".format(err_rate), \"diagnosis\"), \"r\") as f:\n",
    "            lines = [line for line in f.readlines() if line.strip()]\n",
    "            mem_info = lines.pop(-1)\n",
    "            mem_usage = float(mem_info.split(\" \")[-1])\n",
    "            time_info = lines[-1]\n",
    "            time = float(time_info.split(\" \")[-1])\n",
    "            runtimes.append(time)\n",
    "            mem_usages.append(mem_usage)\n",
    "    return runtimes, mem_usages, num_plans"
   ]
  },
  {
   "cell_type": "code",
   "execution_count": 3,
   "id": "5cf662aa",
   "metadata": {
    "scrolled": true
   },
   "outputs": [
    {
     "data": {
      "image/png": "[encoded data removed]",
      "text/plain": [
       "<Figure size 432x288 with 1 Axes>"
      ]
     },
     "metadata": {
      "needs_background": "light"
     },
     "output_type": "display_data"
    }
   ],
   "source": [
    "runtimes_all = []\n",
    "colors = [\"b\", \"c\", \"m\"]\n",
    "for i, e in enumerate([0.1, 0.3, 0.5]):\n",
    "    runtimes, _, num_plans = collect_data(e)\n",
    "    runtimes_all += runtimes\n",
    "    plt.plot(runtimes, num_plans, \".{}\".format(colors[i]), markersize=2, label=\"error-rate: {}\".format(e))\n",
    "plt.yscale(\"log\")\n",
    "plt.xscale(\"log\")\n",
    "plt.ylabel(\"number of associated tasks\")\n",
    "plt.xlabel(\"runtime in seconds\")\n",
    "plt.legend()\n",
    "\n",
    "plt.show()"
   ]
  },
  {
   "cell_type": "code",
   "execution_count": 4,
   "id": "f4e933ab",
   "metadata": {},
   "outputs": [
    {
     "data": {
      "image/png": "[encoded data removed]",
      "text/plain": [
       "<Figure size 432x288 with 1 Axes>"
      ]
     },
     "metadata": {
      "needs_background": "light"
     },
     "output_type": "display_data"
    }
   ],
   "source": [
    "colors = [\"b\", \"c\", \"m\"]\n",
    "for i, e in enumerate([0.1, 0.3, 0.5]):\n",
    "    _, mem_usages, num_plans = collect_data(e)\n",
    "    plt.plot(mem_usages, num_plans, \".{}\".format(colors[i]), markersize=2, label=\"error-rate: {}\".format(e))\n",
    "plt.yscale(\"log\")\n",
    "plt.xscale(\"log\")\n",
    "plt.ylabel(\"number of associated tasks\")\n",
    "plt.xlabel(\"Memory usages in Mb\")\n",
    "plt.legend()\n",
    "\n",
    "plt.show()"
   ]
  },
  {
   "cell_type": "code",
   "execution_count": 5,
   "id": "8b30a9cf",
   "metadata": {},
   "outputs": [],
   "source": [
    "def parseFuzzyOps(line):\n",
    "    #(name, operation, position, atom)\n",
    "    line = line[1:-1]\n",
    "    parts = line.split(\":\")\n",
    "    name = parts[-1].strip()\n",
    "    pattern = re.compile(\"[^\\s]+\\(.*\\)\")\n",
    "    atom = pattern.search(parts[0]).group()\n",
    "    body = re.sub(pattern, \"\", parts[0])\n",
    "    body = [s for s in body.split(\" \") if s.strip()]\n",
    "    position = body[-1].strip()\n",
    "    op = body[0].strip()\n",
    "    assert(op == \"Add\" or op == \"Remove\")\n",
    "    op = 1 if op == \"Add\" else 0\n",
    "    if position == \"Effs\":\n",
    "        atom_property = body[1].strip()\n",
    "        assert(atom_property == \"Atom\" \n",
    "               or atom_property == \"NegatedAtom\")\n",
    "        position = 1 if atom_property == \"Atom\" else 2\n",
    "    elif position == \"Pos-effs\":\n",
    "        position = 1\n",
    "    elif position == \"Neg-effs\":\n",
    "        position = 2\n",
    "    elif position == \"Prec\":\n",
    "        position = 0\n",
    "    else:\n",
    "        assert(False)\n",
    "    return (name, op, position, atom)"
   ]
  },
  {
   "cell_type": "code",
   "execution_count": 6,
   "id": "843ae10f",
   "metadata": {},
   "outputs": [],
   "source": [
    "def parseRepairOps(line):\n",
    "    line = line[1:-1]\n",
    "    line = line.split(\"|\")[0]\n",
    "    parts = line.split(\":\")[1:]\n",
    "    name = parts[-1].strip()\n",
    "    pattern = re.compile(\"[^\\s]+\\(.*\\)\")\n",
    "    atom = pattern.search(parts[0]).group()\n",
    "    body = re.sub(pattern, \"\", parts[0])\n",
    "    body = [s for s in body.split(\" \") if s.strip()]\n",
    "    position = body[-1].strip()\n",
    "    op = body[0].strip()\n",
    "    assert(op == \"Add\" or op == \"Remove\")\n",
    "    op = 1 if op == \"Add\" else 0\n",
    "    assert(position == \"Precondition\" or position == \"Effects\")\n",
    "    if position == \"Precondition\":\n",
    "        position = 0\n",
    "    else:\n",
    "        atom_property = body[1].strip()\n",
    "        assert(atom_property == \"Atom\" \n",
    "               or atom_property == \"NegatedAtom\")\n",
    "        position = 1 if atom_property == \"Atom\" else 2\n",
    "    return (name, op, position, atom)"
   ]
  },
  {
   "cell_type": "code",
   "execution_count": 9,
   "id": "34062fab",
   "metadata": {},
   "outputs": [],
   "source": [
    "def statistical_data(err_rate):\n",
    "    num_total = 0\n",
    "    num_correct = 0\n",
    "    for domain_name in os.listdir(os.getcwd()):\n",
    "        domain_dir = os.path.join(os.getcwd(), domain_name)\n",
    "        if not os.path.isdir(domain_dir):\n",
    "            continue\n",
    "        diagnosis_file = os.path.join(domain_dir, \n",
    "                                      \"err-rate-{}\".format(err_rate), \n",
    "                                      \"diagnosis\")\n",
    "        fuzz_file = os.path.join(domain_dir,\n",
    "                                 \"err-rate-{}\".format(err_rate),\n",
    "                                 \"fuzz_ops.txt\")\n",
    "        if not os.path.exists(diagnosis_file):\n",
    "            continue\n",
    "        with open(diagnosis_file, \"r\") as f:\n",
    "            lines = f.readlines()\n",
    "            lines = lines[:-2]\n",
    "            repairs = [parseRepairOps(line.strip(\"\\n\")) for line in lines]\n",
    "        with open(fuzz_file, \"r\") as f:\n",
    "            lines = f.readlines()\n",
    "            fuzz_ops = [parseFuzzyOps(line.strip(\"\\n\")) for line in lines]\n",
    "        num_total += len(repairs)\n",
    "        for repair in repairs:\n",
    "            for op in fuzz_ops:\n",
    "                if repair[0] == op[0] \\\n",
    "                        and repair[1] + op[1] == 1 \\\n",
    "                        and repair[2] == op[2] \\\n",
    "                        and repair[3] == op[3]:\n",
    "                    num_correct += 1\n",
    "                    break\n",
    "    return (num_correct, num_total)"
   ]
  },
  {
   "cell_type": "code",
   "execution_count": 12,
   "id": "cf80e9e9",
   "metadata": {},
   "outputs": [
    {
     "data": {
      "text/plain": [
       "0.7802547770700637"
      ]
     },
     "execution_count": 12,
     "metadata": {},
     "output_type": "execute_result"
    }
   ],
   "source": [
    "total_correct = 0\n",
    "total_instances = 0\n",
    "for err_rate in [0.1, 0.3, 0.5]:\n",
    "    num_correct, num_instances = statistical_data(err_rate)\n",
    "    total_correct += num_correct\n",
    "    total_instances += num_instances\n",
    "total_correct / total_instances"
   ]
  }
 ],
 "metadata": {
  "kernelspec": {
   "display_name": "Python 3 (ipykernel)",
   "language": "python",
   "name": "python3"
  },
  "language_info": {
   "codemirror_mode": {
    "name": "ipython",
    "version": 3
   },
   "file_extension": ".py",
   "mimetype": "text/x-python",
   "name": "python",
   "nbconvert_exporter": "python",
   "pygments_lexer": "ipython3",
   "version": "3.7.11"
  }
 },
 "nbformat": 4,
 "nbformat_minor": 5
}
